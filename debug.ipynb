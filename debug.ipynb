{
 "cells": [
  {
   "cell_type": "code",
   "execution_count": null,
   "metadata": {},
   "outputs": [],
   "source": [
    "from src.data import load_cache\n",
    "import pandas as pd\n",
    "\n",
    "cache = load_cache()\n",
    "\n",
    "# Quick view of keys\n",
    "print(\"Cache contains\", len(cache), \"entries\")\n",
    "for k in list(cache.keys())[:5]:\n",
    "    print(\" →\", k)\n",
    "\n",
    "# If you want a DataFrame view of the keys\n",
    "df_cache = pd.DataFrame(\n",
    "    [{\"league_id\": k[0], \"year\": k[1], \"scoring_period\": k[2], \"views\": k[3]} for k in cache.keys()]\n",
    ")\n",
    "df_cache"
   ]
  },
  {
   "cell_type": "code",
   "execution_count": null,
   "metadata": {},
   "outputs": [],
   "source": [
    "from src.data import load_cache\n",
    "import json\n",
    "from src.config import config\n",
    "\n",
    "cache = load_cache()\n",
    "\n",
    "# Pick one entry (e.g., 2025)\n",
    "key = (config.league_id, 2025, 1, ('mMatchup', 'mTeam'))\n",
    "resp = cache[key]\n",
    "\n",
    "# Top-level keys\n",
    "print(\"Top-level keys:\", list(resp.keys()))\n",
    "\n",
    "# Pretty-print first ~1000 chars for readability\n",
    "print(json.dumps(resp, indent=2)[:1000])\n"
   ]
  }
 ],
 "metadata": {
  "kernelspec": {
   "display_name": ".venv",
   "language": "python",
   "name": "python3"
  },
  "language_info": {
   "codemirror_mode": {
    "name": "ipython",
    "version": 3
   },
   "file_extension": ".py",
   "mimetype": "text/x-python",
   "name": "python",
   "nbconvert_exporter": "python",
   "pygments_lexer": "ipython3",
   "version": "3.12.3"
  }
 },
 "nbformat": 4,
 "nbformat_minor": 2
}
