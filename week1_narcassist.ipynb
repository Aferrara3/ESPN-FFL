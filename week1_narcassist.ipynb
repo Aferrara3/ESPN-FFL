{
 "cells": [
  {
   "cell_type": "code",
   "execution_count": null,
   "metadata": {},
   "outputs": [],
   "source": [
    "import pandas as pd\n",
    "from src.api import get_league_data\n",
    "from src.processing import extract_teams, extract_week_scores\n",
    "from src.analysis import (\n",
    "    add_ranks, filter_recent, build_owner_lookup,\n",
    "    pivot_scores, normalize_per_column\n",
    ")\n",
    "from src.viz import (\n",
    "    plot_heatmap, plot_line_chart, plot_boxplot\n",
    ")\n",
    "\n",
    "from src.config import config\n",
    "\n",
    "LEAGUE_ID = config.league_id\n",
    "YEARS = config.years\n",
    "cookies = config.cookies\n",
    "headers = config.headers\n",
    "MY_TEAM_ID = 1"
   ]
  },
  {
   "cell_type": "code",
   "execution_count": null,
   "metadata": {},
   "outputs": [],
   "source": [
    "all_scores = []\n",
    "last_data = None\n",
    "\n",
    "for year in YEARS:\n",
    "    data = get_league_data(LEAGUE_ID, year, cookies=cookies, headers=headers)\n",
    "    if not data:\n",
    "        print(f\"⚠️ Missing data for {year}, skipping.\")\n",
    "        continue\n",
    "\n",
    "    last_data = data\n",
    "    teams_df = extract_teams(data)\n",
    "    scores = extract_week_scores(data, year)\n",
    "    scores = scores.merge(teams_df, left_on=\"teamId\", right_on=\"id\").drop(\"id\", axis=1)\n",
    "    all_scores.append(scores)"
   ]
  },
  {
   "cell_type": "code",
   "execution_count": null,
   "metadata": {},
   "outputs": [],
   "source": [
    "# Combine\n",
    "df = pd.concat(all_scores, ignore_index=True)\n",
    "df = add_ranks(df)\n",
    "df = filter_recent(df, min_year=2020)\n",
    "\n",
    "# Build owner lookup & pivot\n",
    "owner_lookup = build_owner_lookup(last_data)\n",
    "pivot = pivot_scores(df, owner_lookup)\n",
    "normed = normalize_per_column(pivot)"
   ]
  },
  {
   "cell_type": "code",
   "execution_count": null,
   "metadata": {},
   "outputs": [],
   "source": [
    "# === Graphs ===\n",
    "plot_heatmap(normed, pivot, \"week1-charts/plot1_heatmap_per_column.png\")\n",
    "plot_line_chart(df, splotlight_team=MY_TEAM_ID, outpath=\"week1-charts/plot2_line.png\")\n",
    "plot_boxplot(df, splotlight_team=MY_TEAM_ID, outpath=\"week1-charts/plot4_box.png\")"
   ]
  },
  {
   "cell_type": "code",
   "execution_count": null,
   "metadata": {},
   "outputs": [],
   "source": [
    "# Print my scores (debug)\n",
    "df[df[\"teamId\"] == MY_TEAM_ID]"
   ]
  }
 ],
 "metadata": {
  "kernelspec": {
   "display_name": ".venv",
   "language": "python",
   "name": "python3"
  },
  "language_info": {
   "codemirror_mode": {
    "name": "ipython",
    "version": 3
   },
   "file_extension": ".py",
   "mimetype": "text/x-python",
   "name": "python",
   "nbconvert_exporter": "python",
   "pygments_lexer": "ipython3",
   "version": "3.12.3"
  }
 },
 "nbformat": 4,
 "nbformat_minor": 2
}
