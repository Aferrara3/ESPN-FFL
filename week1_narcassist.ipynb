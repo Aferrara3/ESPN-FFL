{
 "cells": [
  {
   "cell_type": "code",
   "execution_count": 1,
   "metadata": {},
   "outputs": [],
   "source": [
    "import pandas as pd\n",
    "from src.api import get_league_data\n",
    "from src.processing import extract_teams, extract_week_scores\n",
    "from src.analysis import (\n",
    "    add_ranks, filter_recent, build_owner_lookup,\n",
    "    pivot_scores, normalize_per_column\n",
    ")\n",
    "from src.viz import (\n",
    "    plot_heatmap, plot_line_chart, plot_boxplot\n",
    ")\n",
    "\n",
    "from src.config import config\n",
    "\n",
    "LEAGUE_ID = config.league_id\n",
    "YEARS = config.years\n",
    "cookies = config.cookies\n",
    "headers = config.headers\n",
    "MY_TEAM_ID = 1"
   ]
  },
  {
   "cell_type": "code",
   "execution_count": null,
   "metadata": {},
   "outputs": [],
   "source": [
    "all_scores = []\n",
    "last_data = None\n",
    "\n",
    "for year in YEARS:\n",
    "    data = get_league_data(LEAGUE_ID, year, cookies=cookies, headers=headers)\n",
    "    if not data:\n",
    "        print(f\"⚠️ Missing data for {year}, skipping.\")\n",
    "        continue\n",
    "\n",
    "    last_data = data\n",
    "    teams_df = extract_teams(data)\n",
    "    scores = extract_week_scores(data, year)\n",
    "    scores = scores.merge(teams_df, left_on=\"teamId\", right_on=\"id\").drop(\"id\", axis=1)\n",
    "    all_scores.append(scores)"
   ]
  },
  {
   "cell_type": "code",
   "execution_count": 4,
   "metadata": {},
   "outputs": [],
   "source": [
    "# Combine\n",
    "df = pd.concat(all_scores, ignore_index=True)\n",
    "df = add_ranks(df)\n",
    "df = filter_recent(df, min_year=2020)\n",
    "\n",
    "# Build owner lookup & pivot\n",
    "owner_lookup = build_owner_lookup(last_data)\n",
    "pivot = pivot_scores(df, owner_lookup)\n",
    "normed = normalize_per_column(pivot)"
   ]
  },
  {
   "cell_type": "code",
   "execution_count": 5,
   "metadata": {},
   "outputs": [],
   "source": [
    "# === Graphs ===\n",
    "plot_heatmap(normed, pivot, \"week1-charts/plot1_heatmap_per_column.png\")\n",
    "plot_line_chart(df, splotlight_team=MY_TEAM_ID, outpath=\"week1-charts/plot2_line.png\")\n",
    "plot_boxplot(df, splotlight_team=MY_TEAM_ID, outpath=\"week1-charts/plot4_box.png\")"
   ]
  },
  {
   "cell_type": "code",
   "execution_count": 6,
   "metadata": {},
   "outputs": [
    {
     "data": {
      "text/html": [
       "<div>\n",
       "<style scoped>\n",
       "    .dataframe tbody tr th:only-of-type {\n",
       "        vertical-align: middle;\n",
       "    }\n",
       "\n",
       "    .dataframe tbody tr th {\n",
       "        vertical-align: top;\n",
       "    }\n",
       "\n",
       "    .dataframe thead th {\n",
       "        text-align: right;\n",
       "    }\n",
       "</style>\n",
       "<table border=\"1\" class=\"dataframe\">\n",
       "  <thead>\n",
       "    <tr style=\"text-align: right;\">\n",
       "      <th></th>\n",
       "      <th>season</th>\n",
       "      <th>teamId</th>\n",
       "      <th>points</th>\n",
       "      <th>name</th>\n",
       "      <th>rank</th>\n",
       "    </tr>\n",
       "  </thead>\n",
       "  <tbody>\n",
       "    <tr>\n",
       "      <th>10</th>\n",
       "      <td>2025</td>\n",
       "      <td>1</td>\n",
       "      <td>131.0</td>\n",
       "      <td>Micro Penix Jr</td>\n",
       "      <td>1.0</td>\n",
       "    </tr>\n",
       "    <tr>\n",
       "      <th>23</th>\n",
       "      <td>2024</td>\n",
       "      <td>1</td>\n",
       "      <td>168.3</td>\n",
       "      <td>Micro Penix Jr</td>\n",
       "      <td>1.0</td>\n",
       "    </tr>\n",
       "    <tr>\n",
       "      <th>31</th>\n",
       "      <td>2023</td>\n",
       "      <td>1</td>\n",
       "      <td>106.6</td>\n",
       "      <td>CeeDeez Nutz</td>\n",
       "      <td>1.0</td>\n",
       "    </tr>\n",
       "    <tr>\n",
       "      <th>37</th>\n",
       "      <td>2022</td>\n",
       "      <td>1</td>\n",
       "      <td>57.4</td>\n",
       "      <td>There is no Godwin</td>\n",
       "      <td>12.0</td>\n",
       "    </tr>\n",
       "    <tr>\n",
       "      <th>59</th>\n",
       "      <td>2021</td>\n",
       "      <td>1</td>\n",
       "      <td>143.3</td>\n",
       "      <td>There is no Godwin</td>\n",
       "      <td>1.0</td>\n",
       "    </tr>\n",
       "    <tr>\n",
       "      <th>70</th>\n",
       "      <td>2020</td>\n",
       "      <td>1</td>\n",
       "      <td>150.5</td>\n",
       "      <td>There is no Godwin</td>\n",
       "      <td>1.0</td>\n",
       "    </tr>\n",
       "  </tbody>\n",
       "</table>\n",
       "</div>"
      ],
      "text/plain": [
       "    season  teamId  points                name  rank\n",
       "10    2025       1   131.0      Micro Penix Jr   1.0\n",
       "23    2024       1   168.3      Micro Penix Jr   1.0\n",
       "31    2023       1   106.6        CeeDeez Nutz   1.0\n",
       "37    2022       1    57.4  There is no Godwin  12.0\n",
       "59    2021       1   143.3  There is no Godwin   1.0\n",
       "70    2020       1   150.5  There is no Godwin   1.0"
      ]
     },
     "execution_count": 6,
     "metadata": {},
     "output_type": "execute_result"
    }
   ],
   "source": [
    "# Print my scores (debug)\n",
    "df[df[\"teamId\"] == MY_TEAM_ID]"
   ]
  }
 ],
 "metadata": {
  "kernelspec": {
   "display_name": ".venv",
   "language": "python",
   "name": "python3"
  },
  "language_info": {
   "codemirror_mode": {
    "name": "ipython",
    "version": 3
   },
   "file_extension": ".py",
   "mimetype": "text/x-python",
   "name": "python",
   "nbconvert_exporter": "python",
   "pygments_lexer": "ipython3",
   "version": "3.12.3"
  }
 },
 "nbformat": 4,
 "nbformat_minor": 2
}
